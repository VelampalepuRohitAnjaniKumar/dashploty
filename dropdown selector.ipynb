{
 "cells": [
  {
   "cell_type": "code",
   "execution_count": 12,
   "metadata": {},
   "outputs": [],
   "source": [
    "import dash\n",
    "import dash_core_components as dcc\n",
    "import dash_html_components as html\n",
    "from dash.dependencies import Input,Output"
   ]
  },
  {
   "cell_type": "code",
   "execution_count": 13,
   "metadata": {},
   "outputs": [],
   "source": [
    "import pandas as pd\n",
    "import plotly\n",
    "import plotly.express as px"
   ]
  },
  {
   "cell_type": "code",
   "execution_count": 14,
   "metadata": {},
   "outputs": [],
   "source": [
    "app=dash.Dash(__name__)"
   ]
  },
  {
   "cell_type": "code",
   "execution_count": 15,
   "metadata": {},
   "outputs": [],
   "source": [
    "df=pd.read_csv(\"Urban_Park_Ranger_Animal_Condition.csv\")"
   ]
  },
  {
   "cell_type": "code",
   "execution_count": 16,
   "metadata": {},
   "outputs": [
    {
     "name": "stdout",
     "output_type": "stream",
     "text": [
      "Dash is running on http://127.0.0.1:8050/\n",
      "\n",
      "Dash is running on http://127.0.0.1:8050/\n",
      "\n",
      "Dash is running on http://127.0.0.1:8050/\n",
      "\n",
      " * Serving Flask app \"__main__\" (lazy loading)\n",
      " * Environment: production\n",
      "\u001b[31m   WARNING: This is a development server. Do not use it in a production deployment.\u001b[0m\n",
      "\u001b[2m   Use a production WSGI server instead.\u001b[0m\n",
      " * Debug mode: off\n"
     ]
    }
   ],
   "source": [
    "app.layout = html.Div([\n",
    "\n",
    "    html.Div([\n",
    "        dcc.Graph(id='our_graph')\n",
    "    ],className='nine columns'),\n",
    "\n",
    "    html.Div([\n",
    "\n",
    "        html.Br(),\n",
    "        html.Div(id='output_data'),\n",
    "        html.Br(),\n",
    "\n",
    "        html.Label(['Choose column:'],style={'font-weight': 'bold', \"text-align\": \"center\"}),\n",
    "\n",
    "        dcc.Dropdown(id='my_dropdown',\n",
    "            options=[\n",
    "                     {'label': 'Species', 'value': 'Animal Class'},\n",
    "                     {'label': 'Final Ranger Action', 'value': 'Final Ranger Action'},\n",
    "                     {'label': 'Age', 'value': 'Age', 'disabled':True},\n",
    "                     {'label': 'Animal Condition', 'value': 'Animal Condition'},\n",
    "                     {'label': 'Borough', 'value': 'Borough'},\n",
    "                     {'label': 'Species Status', 'value': 'Species Status'}\n",
    "            ],\n",
    "            optionHeight=35,                    #height/space between dropdown options\n",
    "            value='Borough',                    #dropdown value selected automatically when page loads\n",
    "            disabled=False,                     #disable dropdown value selection\n",
    "            multi=False,                        #allow multiple dropdown values to be selected\n",
    "            searchable=True,                    #allow user-searching of dropdown values\n",
    "            search_value='',                    #remembers the value searched in dropdown\n",
    "            placeholder='Please select...',     #gray, default text shown when no option is selected\n",
    "            clearable=True,                     #allow user to removes the selected value\n",
    "            style={'width':\"100%\"},             #use dictionary to define CSS styles of your dropdown\n",
    "            # className='select_box',           #activate separate CSS document in assets folder\n",
    "            # persistence=True,                 #remembers dropdown value. Used with persistence_type\n",
    "            # persistence_type='memory'         #remembers dropdown value selected until...\n",
    "            ),                                  #'memory': browser tab is refreshed\n",
    "                                                #'session': browser tab is closed\n",
    "                                                #'local': browser cookies are deleted\n",
    "    ],className='three columns'),\n",
    "\n",
    "])\n",
    "\n",
    "#---------------------------------------------------------------\n",
    "# Connecting the Dropdown values to the graph\n",
    "@app.callback(\n",
    "    Output(component_id='our_graph', component_property='figure'),\n",
    "    [Input(component_id='my_dropdown', component_property='value')]\n",
    ")\n",
    "\n",
    "def build_graph(column_chosen):\n",
    "    dff=df\n",
    "    fig = px.pie(dff,names=column_chosen)\n",
    "    fig.update_traces(textinfo='percent+label')\n",
    "    fig.update_layout(title={'text':'NYC Calls for Animal Rescue',\n",
    "                      'font':{'size':28},'x':0.5,'xanchor':'center'})\n",
    "    return fig\n",
    "\n",
    "#---------------------------------------------------------------\n",
    "# For tutorial purposes to show the user the search_value\n",
    "\n",
    "@app.callback(\n",
    "    Output(component_id='output_data', component_property='children'),\n",
    "    [Input(component_id='my_dropdown', component_property='search_value')]\n",
    ")\n",
    "\n",
    "def build_graph(data_chosen):\n",
    "    return ('Search value was: \" {} \"'.format(data_chosen))\n",
    "#---------------------------------------------------------------\n",
    "\n",
    "if __name__ == '__main__':\n",
    "    app.run_server(debug=False)\n"
   ]
  }
 ],
 "metadata": {
  "kernelspec": {
   "display_name": "Python 3.9.7 ('base')",
   "language": "python",
   "name": "python3"
  },
  "language_info": {
   "codemirror_mode": {
    "name": "ipython",
    "version": 3
   },
   "file_extension": ".py",
   "mimetype": "text/x-python",
   "name": "python",
   "nbconvert_exporter": "python",
   "pygments_lexer": "ipython3",
   "version": "3.9.7"
  },
  "orig_nbformat": 4,
  "vscode": {
   "interpreter": {
    "hash": "e71547eb8e7a90a87d0183098d7ff6e840abf875b38f1fbd362b6ad19fe16c20"
   }
  }
 },
 "nbformat": 4,
 "nbformat_minor": 2
}
