{
 "cells": [
  {
   "cell_type": "code",
   "execution_count": 1,
   "metadata": {},
   "outputs": [
    {
     "name": "stderr",
     "output_type": "stream",
     "text": [
      "C:\\Users\\Rohit\\AppData\\Local\\Temp\\ipykernel_23168\\1693381839.py:6: UserWarning: \n",
      "The dash_core_components package is deprecated. Please replace\n",
      "`import dash_core_components as dcc` with `from dash import dcc`\n",
      "  import dash_core_components as dcc\n",
      "C:\\Users\\Rohit\\AppData\\Local\\Temp\\ipykernel_23168\\1693381839.py:7: UserWarning: \n",
      "The dash_html_components package is deprecated. Please replace\n",
      "`import dash_html_components as html` with `from dash import html`\n",
      "  import dash_html_components as html\n"
     ]
    },
    {
     "name": "stdout",
     "output_type": "stream",
     "text": [
      "Dash is running on http://127.0.0.1:8050/\n",
      "\n",
      " * Serving Flask app \"__main__\" (lazy loading)\n",
      " * Environment: production\n",
      "\u001b[31m   WARNING: This is a development server. Do not use it in a production deployment.\u001b[0m\n",
      "\u001b[2m   Use a production WSGI server instead.\u001b[0m\n",
      " * Debug mode: off\n"
     ]
    },
    {
     "name": "stderr",
     "output_type": "stream",
     "text": [
      " * Running on http://127.0.0.1:8050/ (Press CTRL+C to quit)\n",
      "127.0.0.1 - - [27/Nov/2022 08:33:00] \"GET / HTTP/1.1\" 200 -\n",
      "127.0.0.1 - - [27/Nov/2022 08:33:00] \"GET /_dash-layout HTTP/1.1\" 200 -\n",
      "127.0.0.1 - - [27/Nov/2022 08:33:00] \"GET /_dash-dependencies HTTP/1.1\" 200 -\n",
      "127.0.0.1 - - [27/Nov/2022 08:33:00] \"GET /_dash-component-suites/dash/dcc/async-graph.js HTTP/1.1\" 200 -\n",
      "127.0.0.1 - - [27/Nov/2022 08:33:00] \"GET /_dash-component-suites/dash/dcc/async-slider.js HTTP/1.1\" 200 -\n",
      "127.0.0.1 - - [27/Nov/2022 08:33:00] \"GET /_dash-component-suites/dash/dcc/async-plotlyjs.js HTTP/1.1\" 200 -\n",
      "127.0.0.1 - - [27/Nov/2022 08:33:02] \"POST /_dash-update-component HTTP/1.1\" 200 -\n"
     ]
    }
   ],
   "source": [
    "import pandas as pd     \n",
    "import plotly           \n",
    "import plotly.express as px\n",
    "\n",
    "import dash            \n",
    "import dash_core_components as dcc\n",
    "import dash_html_components as html\n",
    "from dash.dependencies import Input, Output\n",
    "\n",
    "app = dash.Dash(__name__)\n",
    "\n",
    "#---------------------------------------------------------------\n",
    "#Data found at https://www.kaggle.com/akhilv11/border-crossing-entry-data/data\n",
    "#The Bureau of Transportation Statistics (BTS) Border Crossing Data provide summary statistics\n",
    "#for inbound crossings at the U.S.-Canada and the U.S.-Mexico border at the port leve\n",
    "\n",
    "df = pd.read_csv(\"Border_Crossing_Entry_Data.csv\")  # https://drive.google.com/file/d/1UnQvjvF5F0C1NKhvZ-TnTg4cfbe67uvP/view?usp=sharing\n",
    "df['Date'] = pd.to_datetime(df['Date'])\n",
    "df['Date'] = df['Date'].dt.year\n",
    "df = df.set_index('Date')\n",
    "\n",
    "#---------------------------------------------------------------\n",
    "app.layout = html.Div([\n",
    "\n",
    "    html.Div([\n",
    "        dcc.Graph(id='our_graph')\n",
    "    ]),\n",
    "\n",
    "    html.Div([\n",
    "        html.Label(['Choose Years of Border Crossings into the USA:'],\n",
    "                    style={'font-weight': 'bold'}),\n",
    "        html.P(),\n",
    "        dcc.RangeSlider(\n",
    "            id='my-range-slider', # any name you'd like to give it\n",
    "            marks={\n",
    "                1996: '1996',     # key=position, value=what you see\n",
    "                2000: '2000',\n",
    "                2004: '2004',\n",
    "                2008: '2008',\n",
    "                2012: '2012',\n",
    "                2016: {'label': '2016', 'style': {'color':'#f50', 'font-weight':'bold'}},\n",
    "                2018: '2018',\n",
    "            },\n",
    "            step=1,                # number of steps between values\n",
    "            min=1996,\n",
    "            max=2016,\n",
    "            value=[1998,2000],     # default value initially chosen\n",
    "            dots=True,             # True, False - insert dots, only when step>1\n",
    "            allowCross=False,      # True,False - Manage handle crossover\n",
    "            disabled=False,        # True,False - disable handle\n",
    "            pushable=2,            # any number, or True with multiple handles\n",
    "            updatemode='mouseup',  # 'mouseup', 'drag' - update value method\n",
    "            included=True,         # True, False - highlight handle\n",
    "            vertical=False,        # True, False - vertical, horizontal slider\n",
    "            verticalHeight=900,    # hight of slider (pixels) when vertical=True\n",
    "            className='None',\n",
    "            tooltip={'always_visible':False,  # show current slider values\n",
    "                     'placement':'bottom'},\n",
    "            ),\n",
    "    ]),\n",
    "\n",
    "])\n",
    "\n",
    "#---------------------------------------------------------------\n",
    "\n",
    "@app.callback(\n",
    "    Output('our_graph','figure'),\n",
    "    [Input('my-range-slider','value')]\n",
    ")\n",
    "\n",
    "def build_graph(years):\n",
    "\n",
    "    dff = df.loc[years[1]:years[0]]\n",
    "    dff = dff[(dff['Measure']=='Personal Vehicles')]\n",
    "    dff = dff[(dff['State']=='Vermont') | (dff['State']=='Idaho')]\n",
    "    # print(dff[:5])\n",
    "\n",
    "    fig = px.bar(dff, x=\"State\", y=\"Value\", color='Port Name')\n",
    "\n",
    "    fig.update_layout(yaxis={'title':'Incoming Border Crossings'},\n",
    "                      title={'text':'Border Crossing into the United States',\n",
    "                      'font':{'size':28},'x':0.5,'xanchor':'center'})\n",
    "    return fig\n",
    "\n",
    "#---------------------------------------------------------------\n",
    "\n",
    "if __name__ == '__main__':\n",
    "    app.run_server(debug=False)\n"
   ]
  }
 ],
 "metadata": {
  "kernelspec": {
   "display_name": "Python 3.9.7 ('base')",
   "language": "python",
   "name": "python3"
  },
  "language_info": {
   "codemirror_mode": {
    "name": "ipython",
    "version": 3
   },
   "file_extension": ".py",
   "mimetype": "text/x-python",
   "name": "python",
   "nbconvert_exporter": "python",
   "pygments_lexer": "ipython3",
   "version": "3.9.7"
  },
  "orig_nbformat": 4,
  "vscode": {
   "interpreter": {
    "hash": "e71547eb8e7a90a87d0183098d7ff6e840abf875b38f1fbd362b6ad19fe16c20"
   }
  }
 },
 "nbformat": 4,
 "nbformat_minor": 2
}
