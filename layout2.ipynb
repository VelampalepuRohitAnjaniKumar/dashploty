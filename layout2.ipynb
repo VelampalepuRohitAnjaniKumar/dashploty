{
 "cells": [
  {
   "cell_type": "code",
   "execution_count": 1,
   "metadata": {},
   "outputs": [
    {
     "name": "stdout",
     "output_type": "stream",
     "text": [
      "Index(['country', 'continent', 'year', 'lifeExp', 'pop', 'gdpPercap',\n",
      "       'iso_alpha', 'iso_num'],\n",
      "      dtype='object')\n",
      "Dash is running on http://127.0.0.1:8001/\n",
      "\n",
      " * Serving Flask app \"__main__\" (lazy loading)\n",
      " * Environment: production\n",
      "\u001b[31m   WARNING: This is a development server. Do not use it in a production deployment.\u001b[0m\n",
      "\u001b[2m   Use a production WSGI server instead.\u001b[0m\n",
      " * Debug mode: off\n"
     ]
    },
    {
     "name": "stderr",
     "output_type": "stream",
     "text": [
      " * Running on http://127.0.0.1:8001/ (Press CTRL+C to quit)\n",
      "127.0.0.1 - - [26/Nov/2022 10:09:35] \"GET / HTTP/1.1\" 200 -\n",
      "127.0.0.1 - - [26/Nov/2022 10:09:35] \"GET /_dash-component-suites/dash/deps/polyfill@7.v2_7_0m1669437119.12.1.min.js HTTP/1.1\" 200 -\n",
      "127.0.0.1 - - [26/Nov/2022 10:09:35] \"GET /_dash-component-suites/dash/deps/react@16.v2_7_0m1669437119.14.0.min.js HTTP/1.1\" 200 -\n",
      "127.0.0.1 - - [26/Nov/2022 10:09:35] \"GET /_dash-component-suites/dash/deps/react-dom@16.v2_7_0m1669437119.14.0.min.js HTTP/1.1\" 200 -\n",
      "127.0.0.1 - - [26/Nov/2022 10:09:35] \"GET /_dash-component-suites/dash_bootstrap_components/_components/dash_bootstrap_components.v1_2_1m1669437320.min.js HTTP/1.1\" 200 -\n",
      "127.0.0.1 - - [26/Nov/2022 10:09:35] \"GET /_dash-component-suites/dash/deps/prop-types@15.v2_7_0m1669437119.8.1.min.js HTTP/1.1\" 200 -\n",
      "127.0.0.1 - - [26/Nov/2022 10:09:35] \"GET /_dash-component-suites/dash/dash-renderer/build/dash_renderer.v2_7_0m1669437119.min.js HTTP/1.1\" 200 -\n",
      "127.0.0.1 - - [26/Nov/2022 10:09:35] \"GET /_dash-component-suites/dash/html/dash_html_components.v2_0_6m1669437119.min.js HTTP/1.1\" 200 -\n",
      "127.0.0.1 - - [26/Nov/2022 10:09:35] \"GET /_dash-component-suites/dash/dcc/dash_core_components-shared.v2_7_0m1669437119.js HTTP/1.1\" 200 -\n",
      "127.0.0.1 - - [26/Nov/2022 10:09:35] \"GET /_dash-component-suites/dash/dcc/dash_core_components.v2_7_0m1669437119.js HTTP/1.1\" 200 -\n",
      "127.0.0.1 - - [26/Nov/2022 10:09:35] \"GET /_dash-component-suites/dash/dash_table/bundle.v5_2_0m1669437119.js HTTP/1.1\" 200 -\n",
      "127.0.0.1 - - [26/Nov/2022 10:09:35] \"GET /_dash-dependencies HTTP/1.1\" 200 -\n",
      "127.0.0.1 - - [26/Nov/2022 10:09:35] \"GET /_favicon.ico?v=2.7.0 HTTP/1.1\" 200 -\n",
      "127.0.0.1 - - [26/Nov/2022 10:09:35] \"GET /_dash-layout HTTP/1.1\" 200 -\n",
      "127.0.0.1 - - [26/Nov/2022 10:09:35] \"GET /_dash-component-suites/dash/dcc/async-dropdown.js HTTP/1.1\" 200 -\n",
      "127.0.0.1 - - [26/Nov/2022 10:09:35] \"GET /_dash-component-suites/dash/dcc/async-slider.js HTTP/1.1\" 200 -\n"
     ]
    }
   ],
   "source": [
    "from dash import Dash, html, dcc\n",
    "import dash_bootstrap_components as dbc\n",
    "import plotly.express as px\n",
    "\n",
    "# Instantiate our App and incorporate BOOTSTRAP theme stylesheet\n",
    "app = Dash(__name__, external_stylesheets=[dbc.themes.BOOTSTRAP])\n",
    "\n",
    "# Incorporate data into App\n",
    "df = px.data.gapminder()\n",
    "print(df.columns)\n",
    "\n",
    "# Build the layout to define what will be displayed on the page\n",
    "app.layout = dbc.Container([\n",
    "    dbc.Row([\n",
    "       dbc.Col([\n",
    "           html.H1(\"The Title of Our App\")\n",
    "       ], width=8)\n",
    "    ], justify=\"center\"),\n",
    "\n",
    "    dbc.Row([\n",
    "        dbc.Col([\n",
    "            html.Label('Dropdown'),\n",
    "            dcc.Dropdown(options=[x for x in df.year.unique()],\n",
    "                         value=df.year[0]),\n",
    "        ], width=6),\n",
    "        dbc.Col([\n",
    "            html.Label('Radio Items'),\n",
    "            dcc.RadioItems(options=['New York City', 'Montréal', 'San Francisco'],\n",
    "                           value='Montréal'),\n",
    "        ], width=6)\n",
    "    ]),\n",
    "\n",
    "    dbc.Row([\n",
    "        dbc.Col([\n",
    "            html.Label('Slider'),\n",
    "            dcc.Slider(min=0, max=10, step=1, value=5),\n",
    "        ], width=6),\n",
    "        dbc.Col([\n",
    "            html.Label('Text Input'),\n",
    "            html.Br(),\n",
    "            dcc.Input(value='Initial text', type='text'),\n",
    "        ], width=6)\n",
    "    ]),\n",
    "])\n",
    "\n",
    "# callback is used to create app interactivity\n",
    "#@callback()\n",
    "\n",
    "# Run the App\n",
    "if __name__ == '__main__':\n",
    "    app.run_server(port=8001)"
   ]
  }
 ],
 "metadata": {
  "kernelspec": {
   "display_name": "Python 3.9.7 ('base')",
   "language": "python",
   "name": "python3"
  },
  "language_info": {
   "codemirror_mode": {
    "name": "ipython",
    "version": 3
   },
   "file_extension": ".py",
   "mimetype": "text/x-python",
   "name": "python",
   "nbconvert_exporter": "python",
   "pygments_lexer": "ipython3",
   "version": "3.9.7"
  },
  "orig_nbformat": 4,
  "vscode": {
   "interpreter": {
    "hash": "e71547eb8e7a90a87d0183098d7ff6e840abf875b38f1fbd362b6ad19fe16c20"
   }
  }
 },
 "nbformat": 4,
 "nbformat_minor": 2
}
