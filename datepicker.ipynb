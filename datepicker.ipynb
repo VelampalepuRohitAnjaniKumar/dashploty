{
 "cells": [
  {
   "cell_type": "code",
   "execution_count": 1,
   "metadata": {},
   "outputs": [
    {
     "name": "stderr",
     "output_type": "stream",
     "text": [
      "C:\\Users\\Rohit\\AppData\\Local\\Temp\\ipykernel_19924\\972237667.py:4: UserWarning: \n",
      "The dash_html_components package is deprecated. Please replace\n",
      "`import dash_html_components as html` with `from dash import html`\n",
      "  import dash_html_components as html\n",
      "C:\\Users\\Rohit\\AppData\\Local\\Temp\\ipykernel_19924\\972237667.py:5: UserWarning: \n",
      "The dash_core_components package is deprecated. Please replace\n",
      "`import dash_core_components as dcc` with `from dash import dcc`\n",
      "  import dash_core_components as dcc\n"
     ]
    },
    {
     "name": "stdout",
     "output_type": "stream",
     "text": [
      "                               BUSINESS_NAME   LATITUDE  LONGITUDE  APP_SQ_FT\n",
      "SUBMIT_DATE                                                                  \n",
      "2018-03-14                       TAP NYC LLC  40.777553 -73.978473      106.0\n",
      "2018-03-27          SWEETGREEN NEW YORK, LLC  40.791440 -73.973760      307.0\n",
      "2018-12-11                        CLOUET LLC  40.729983 -73.957623      214.0\n",
      "2019-04-15           768 MAD RESTAURANT, LLC  40.767933 -73.968451       53.0\n",
      "2018-09-13   NARITA JAPANESE RESTAURANT INC.  40.720657 -73.845545      220.0\n",
      "Dash is running on http://127.0.0.1:8050/\n",
      "\n",
      " * Serving Flask app \"__main__\" (lazy loading)\n",
      " * Environment: production\n",
      "\u001b[31m   WARNING: This is a development server. Do not use it in a production deployment.\u001b[0m\n",
      "\u001b[2m   Use a production WSGI server instead.\u001b[0m\n",
      " * Debug mode: off\n"
     ]
    },
    {
     "name": "stderr",
     "output_type": "stream",
     "text": [
      " * Running on http://127.0.0.1:8050/ (Press CTRL+C to quit)\n",
      "127.0.0.1 - - [28/Nov/2022 16:12:02] \"GET / HTTP/1.1\" 200 -\n",
      "127.0.0.1 - - [28/Nov/2022 16:12:04] \"GET /_dash-dependencies HTTP/1.1\" 200 -\n",
      "127.0.0.1 - - [28/Nov/2022 16:12:04] \"GET /_favicon.ico?v=2.7.0 HTTP/1.1\" 200 -\n",
      "127.0.0.1 - - [28/Nov/2022 16:12:04] \"GET /_dash-layout HTTP/1.1\" 200 -\n",
      "127.0.0.1 - - [28/Nov/2022 16:12:04] \"GET /_dash-component-suites/dash/dcc/async-datepicker.js HTTP/1.1\" 200 -\n",
      "127.0.0.1 - - [28/Nov/2022 16:12:04] \"GET /_dash-component-suites/dash/dcc/async-graph.js HTTP/1.1\" 200 -\n",
      "127.0.0.1 - - [28/Nov/2022 16:12:04] \"GET /_dash-component-suites/dash/dcc/async-plotlyjs.js HTTP/1.1\" 200 -\n",
      "C:\\Users\\Rohit\\AppData\\Local\\Temp\\ipykernel_19924\\972237667.py:59: FutureWarning:\n",
      "\n",
      "Value based partial slicing on non-monotonic DatetimeIndexes with non-existing keys is deprecated and will raise a KeyError in a future Version.\n",
      "\n",
      "127.0.0.1 - - [28/Nov/2022 16:12:06] \"POST /_dash-update-component HTTP/1.1\" 200 -\n"
     ]
    }
   ],
   "source": [
    "from datetime import datetime as dt\n",
    "import plotly.express as px\n",
    "import dash\n",
    "import dash_html_components as html\n",
    "import dash_core_components as dcc\n",
    "from dash.dependencies import Input, Output\n",
    "import pandas as pd\n",
    "\n",
    "# Data from NYC Open Data portal\n",
    "df = pd.read_csv(\"https://raw.githubusercontent.com/Coding-with-Adam/Dash-by-Plotly/master/Dash%20Components/DatePickerRange/Sidewalk_Caf__Licenses_and_Applications.csv\")\n",
    "df['SUBMIT_DATE'] = pd.to_datetime(df['SUBMIT_DATE'])\n",
    "df.set_index('SUBMIT_DATE', inplace=True)\n",
    "print(df[:5][['BUSINESS_NAME', 'LATITUDE', 'LONGITUDE', 'APP_SQ_FT']])\n",
    "\n",
    "external_stylesheets = ['https://codepen.io/chriddyp/pen/bWLwgP.css']\n",
    "\n",
    "app = dash.Dash(__name__, external_stylesheets=external_stylesheets)\n",
    "app.layout = html.Div([\n",
    "    dcc.DatePickerRange(\n",
    "        id='my-date-picker-range',  # ID to be used for callback\n",
    "        calendar_orientation='horizontal',  # vertical or horizontal\n",
    "        day_size=39,  # size of calendar image. Default is 39\n",
    "        end_date_placeholder_text=\"Return\",  # text that appears when no end date chosen\n",
    "        with_portal=False,  # if True calendar will open in a full screen overlay portal\n",
    "        first_day_of_week=0,  # Display of calendar when open (0 = Sunday)\n",
    "        reopen_calendar_on_clear=True,\n",
    "        is_RTL=False,  # True or False for direction of calendar\n",
    "        clearable=True,  # whether or not the user can clear the dropdown\n",
    "        number_of_months_shown=1,  # number of months shown when calendar is open\n",
    "        min_date_allowed=dt(2018, 1, 1),  # minimum date allowed on the DatePickerRange component\n",
    "        max_date_allowed=dt(2020, 6, 20),  # maximum date allowed on the DatePickerRange component\n",
    "        initial_visible_month=dt(2020, 5, 1),  # the month initially presented when the user opens the calendar\n",
    "        start_date=dt(2018, 8, 7).date(),\n",
    "        end_date=dt(2020, 5, 15).date(),\n",
    "        display_format='MMM Do, YY',  # how selected dates are displayed in the DatePickerRange component.\n",
    "        month_format='MMMM, YYYY',  # how calendar headers are displayed when the calendar is opened.\n",
    "        minimum_nights=2,  # minimum number of days between start and end date\n",
    "\n",
    "        persistence=True,\n",
    "        persisted_props=['start_date'],\n",
    "        persistence_type='session',  # session, local, or memory. Default is 'local'\n",
    "\n",
    "        updatemode='singledate'  # singledate or bothdates. Determines when callback is triggered\n",
    "    ),\n",
    "\n",
    "    html.H3(\"Sidewalk Café Licenses and Applications\", style={'textAlign': 'center'}),\n",
    "    dcc.Graph(id='mymap')\n",
    "])\n",
    "\n",
    "\n",
    "@app.callback(\n",
    "    Output('mymap', 'figure'),\n",
    "    [Input('my-date-picker-range', 'start_date'),\n",
    "     Input('my-date-picker-range', 'end_date')]\n",
    ")\n",
    "def update_output(start_date, end_date):\n",
    "    # print(\"Start date: \" + start_date)\n",
    "    # print(\"End date: \" + end_date)\n",
    "    dff = df.loc[start_date:end_date]\n",
    "    # print(dff[:5])\n",
    "\n",
    "    fig = px.density_mapbox(dff, lat='LATITUDE', lon='LONGITUDE', z='APP_SQ_FT', radius=13, zoom=10, height=650,\n",
    "                            center=dict(lat=40.751418, lon=-73.963878), mapbox_style=\"carto-positron\",\n",
    "                            hover_data={'BUSINESS_NAME': True, 'LATITUDE': False, 'LONGITUDE': False,\n",
    "                                        'APP_SQ_FT': True})\n",
    "    return fig\n",
    "\n",
    "\n",
    "if __name__ == '__main__':\n",
    "    app.run_server(debug=False, dev_tools_ui=False)"
   ]
  }
 ],
 "metadata": {
  "kernelspec": {
   "display_name": "Python 3.9.7 ('base')",
   "language": "python",
   "name": "python3"
  },
  "language_info": {
   "codemirror_mode": {
    "name": "ipython",
    "version": 3
   },
   "file_extension": ".py",
   "mimetype": "text/x-python",
   "name": "python",
   "nbconvert_exporter": "python",
   "pygments_lexer": "ipython3",
   "version": "3.9.7"
  },
  "orig_nbformat": 4,
  "vscode": {
   "interpreter": {
    "hash": "e71547eb8e7a90a87d0183098d7ff6e840abf875b38f1fbd362b6ad19fe16c20"
   }
  }
 },
 "nbformat": 4,
 "nbformat_minor": 2
}
