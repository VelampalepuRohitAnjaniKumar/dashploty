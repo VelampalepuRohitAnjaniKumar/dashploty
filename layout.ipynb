{
 "cells": [
  {
   "cell_type": "code",
   "execution_count": null,
   "metadata": {},
   "outputs": [],
   "source": [
    "# pip install dash_bootstrap_components\n",
    "# pip install dash"
   ]
  },
  {
   "cell_type": "code",
   "execution_count": 9,
   "metadata": {},
   "outputs": [],
   "source": [
    "from dash import Dash, dcc, html\n",
    "import dash_bootstrap_components as dbc\n",
    "import plotly.express as px\n",
    "\n",
    "# Instantiate our App and incorporate BOOTSTRAP theme stylesheet\n",
    "app = Dash(__name__, external_stylesheets=[dbc.themes.BOOTSTRAP])\n",
    "\n",
    "# Incorporate data into App\n",
    "df = px.data.gapminder()\n",
    "print(df.head())\n",
    "\n",
    "# Build the scatter plot\n",
    "fig = px.scatter(data_frame=df, x=\"gdpPercap\", y=\"lifeExp\", size=\"pop\",\n",
    "                 color=\"continent\", hover_name=\"country\", log_x=True,\n",
    "                 size_max=60, range_y=[30, 90], animation_frame='year')\n",
    "\n",
    "# Build the layout to define what will be displayed on the page\n",
    "app.layout = dbc.Container([\n",
    "    dbc.Row([\n",
    "        dbc.Col([\n",
    "            html.H1(\"Life Expectancy vs. GDP\", style={'textAlign': 'center'})\n",
    "        ], width=12)\n",
    "    ]),\n",
    "\n",
    "    dbc.Row([\n",
    "        dbc.Col([\n",
    "            dcc.Graph(id='our-plot', figure=fig)\n",
    "        ], width=12)\n",
    "    ])\n",
    "])\n",
    "\n",
    "\n",
    "# callback is used to create app interactivity\n",
    "#@callback()\n",
    "\n",
    "# Run the App\n",
    "if __name__ == '__main__':\n",
    "    app.run_server()"
   ]
  },
  {
   "cell_type": "code",
   "execution_count": null,
   "metadata": {},
   "outputs": [],
   "source": []
  }
 ],
 "metadata": {
  "kernelspec": {
   "display_name": "Python 3.9.7 ('base')",
   "language": "python",
   "name": "python3"
  },
  "language_info": {
   "codemirror_mode": {
    "name": "ipython",
    "version": 3
   },
   "file_extension": ".py",
   "mimetype": "text/x-python",
   "name": "python",
   "nbconvert_exporter": "python",
   "pygments_lexer": "ipython3",
   "version": "3.9.7"
  },
  "orig_nbformat": 4,
  "vscode": {
   "interpreter": {
    "hash": "e71547eb8e7a90a87d0183098d7ff6e840abf875b38f1fbd362b6ad19fe16c20"
   }
  }
 },
 "nbformat": 4,
 "nbformat_minor": 2
}
