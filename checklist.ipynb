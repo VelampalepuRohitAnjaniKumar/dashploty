{
 "cells": [
  {
   "cell_type": "code",
   "execution_count": 1,
   "metadata": {},
   "outputs": [
    {
     "name": "stderr",
     "output_type": "stream",
     "text": [
      "C:\\Users\\Rohit\\AppData\\Local\\Temp\\ipykernel_17272\\199399103.py:5: UserWarning: \n",
      "The dash_core_components package is deprecated. Please replace\n",
      "`import dash_core_components as dcc` with `from dash import dcc`\n",
      "  import dash_core_components as dcc\n",
      "C:\\Users\\Rohit\\AppData\\Local\\Temp\\ipykernel_17272\\199399103.py:6: UserWarning: \n",
      "The dash_html_components package is deprecated. Please replace\n",
      "`import dash_html_components as html` with `from dash import html`\n",
      "  import dash_html_components as html\n"
     ]
    },
    {
     "name": "stdout",
     "output_type": "stream",
     "text": [
      "Dash is running on http://127.0.0.1:8050/\n",
      "\n",
      " * Serving Flask app \"__main__\" (lazy loading)\n",
      " * Environment: production\n",
      "\u001b[31m   WARNING: This is a development server. Do not use it in a production deployment.\u001b[0m\n",
      "\u001b[2m   Use a production WSGI server instead.\u001b[0m\n",
      " * Debug mode: off\n"
     ]
    },
    {
     "name": "stderr",
     "output_type": "stream",
     "text": [
      " * Running on http://127.0.0.1:8050/ (Press CTRL+C to quit)\n",
      "127.0.0.1 - - [27/Nov/2022 10:21:18] \"GET / HTTP/1.1\" 200 -\n",
      "127.0.0.1 - - [27/Nov/2022 10:21:18] \"GET /_dash-layout HTTP/1.1\" 200 -\n",
      "127.0.0.1 - - [27/Nov/2022 10:21:18] \"GET /_dash-dependencies HTTP/1.1\" 200 -\n",
      "127.0.0.1 - - [27/Nov/2022 10:21:18] \"GET /_dash-component-suites/dash/dcc/async-graph.js HTTP/1.1\" 200 -\n",
      "127.0.0.1 - - [27/Nov/2022 10:21:18] \"GET /_dash-component-suites/dash/dcc/async-plotlyjs.js HTTP/1.1\" 200 -\n"
     ]
    },
    {
     "name": "stdout",
     "output_type": "stream",
     "text": [
      "['January' 'July' 'December']\n"
     ]
    },
    {
     "name": "stderr",
     "output_type": "stream",
     "text": [
      "127.0.0.1 - - [27/Nov/2022 10:21:19] \"POST /_dash-update-component HTTP/1.1\" 200 -\n"
     ]
    }
   ],
   "source": [
    "import pandas as pd     \n",
    "import datetime as dt\n",
    "\n",
    "import dash             \n",
    "import dash_core_components as dcc\n",
    "import dash_html_components as html\n",
    "from dash.dependencies import Input, Output\n",
    "\n",
    "import plotly          \n",
    "import plotly.express as px\n",
    "\n",
    "df = pd.read_csv(\"Urban_Park_Ranger_Animal_Condition_Response.csv\")  # https://drive.google.com/file/d/1m63TNoZdDUtH5XhK-mc4kDFzO9j97eWW/view?usp=sharing\n",
    "\n",
    "#------------------------------------------------------------------------------\n",
    "# Drop rows w/ no animals found or calls w/ varied age groups\n",
    "df = df[(df['# of Animals']>0) & (df['Age']!='Multiple')]\n",
    "\n",
    "# Create column for month from time call made to Ranger\n",
    "df['Month Call Made'] = pd.to_datetime(df['Date and Time of initial call'])\n",
    "df['Month Call Made'] = df['Month Call Made'].dt.strftime('%m')\n",
    "df.sort_values('Month Call Made', inplace=True)\n",
    "df['Month Call Made'] = df['Month Call Made'].replace({\"01\":\"January\",\"02\":\"February\",\"03\":\"March\",\n",
    "                                                       \"04\":\"April\",\"05\":\"May\",\"06\":\"June\",\n",
    "                                                       \"07\":\"July\",\"08\":\"August\",\"09\":\"September\",\n",
    "                                                       \"10\":\"October\",\"11\":\"November\",\"12\":\"December\",})\n",
    "# Copy columns to new columns with clearer names\n",
    "df['Amount of Animals'] = df['# of Animals']\n",
    "#------------------------------------------------------------------------------\n",
    "\n",
    "app = dash.Dash(__name__)\n",
    "\n",
    "#------------------------------------------------------------------------------\n",
    "app.layout = html.Div([\n",
    "\n",
    "        html.Div([\n",
    "            html.Pre(children= \"NYC Calls for Animal Rescue\",\n",
    "            style={\"text-align\": \"center\", \"font-size\":\"100%\", \"color\":\"black\"})\n",
    "        ]),\n",
    "\n",
    "        html.Div([\n",
    "            dcc.Checklist(\n",
    "                id='my_checklist',                      # used to identify component in callback\n",
    "                options=[\n",
    "                         {'label': x, 'value': x, 'disabled':False}\n",
    "                         for x in df['Month Call Made'].unique()\n",
    "                ],\n",
    "                value=['January','July','December'],    # values chosen by default\n",
    "\n",
    "                className='my_box_container',           # class of the container (div)\n",
    "                # style={'display':'flex'},             # style of the container (div)\n",
    "\n",
    "                inputClassName='my_box_input',          # class of the <input> checkbox element\n",
    "                # inputStyle={'cursor':'pointer'},      # style of the <input> checkbox element\n",
    "\n",
    "                labelClassName='my_box_label',          # class of the <label> that wraps the checkbox input and the option's label\n",
    "                # labelStyle={'background':'#A5D6A7',   # style of the <label> that wraps the checkbox input and the option's label\n",
    "                #             'padding':'0.5rem 1rem',\n",
    "                #             'border-radius':'0.5rem'},\n",
    "\n",
    "                #persistence='',                        # stores user's changes to dropdown in memory ( I go over this in detail in Dropdown video: https://youtu.be/UYH_dNSX1DM )\n",
    "                #persistence_type='',                   # stores user's changes to dropdown in memory ( I go over this in detail in Dropdown video: https://youtu.be/UYH_dNSX1DM )\n",
    "            ),\n",
    "        ]),\n",
    "\n",
    "        html.Div([\n",
    "            dcc.Graph(id='the_graph')\n",
    "    ]),\n",
    "\n",
    "])\n",
    "\n",
    "#------------------------------------------------------------------------------\n",
    "@app.callback(\n",
    "    Output(component_id='the_graph', component_property='figure'),\n",
    "    [Input(component_id='my_checklist', component_property='value')]\n",
    ")\n",
    "def update_graph(options_chosen):\n",
    "\n",
    "    dff = df[df['Month Call Made'].isin(options_chosen)]\n",
    "    print (dff['Month Call Made'].unique())\n",
    "\n",
    "    piechart=px.pie(\n",
    "            data_frame=dff,\n",
    "            values='Amount of Animals',\n",
    "            names='Month Call Made',\n",
    "            )\n",
    "\n",
    "    return (piechart)\n",
    "\n",
    "#------------------------------------------------------------------------------\n",
    "if __name__ == '__main__':\n",
    "    app.run_server(debug=False)"
   ]
  }
 ],
 "metadata": {
  "kernelspec": {
   "display_name": "Python 3.9.7 ('base')",
   "language": "python",
   "name": "python3"
  },
  "language_info": {
   "codemirror_mode": {
    "name": "ipython",
    "version": 3
   },
   "file_extension": ".py",
   "mimetype": "text/x-python",
   "name": "python",
   "nbconvert_exporter": "python",
   "pygments_lexer": "ipython3",
   "version": "3.9.7"
  },
  "orig_nbformat": 4,
  "vscode": {
   "interpreter": {
    "hash": "e71547eb8e7a90a87d0183098d7ff6e840abf875b38f1fbd362b6ad19fe16c20"
   }
  }
 },
 "nbformat": 4,
 "nbformat_minor": 2
}
